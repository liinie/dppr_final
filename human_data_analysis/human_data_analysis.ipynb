{
 "cells": [
  {
   "cell_type": "code",
   "execution_count": 1,
   "metadata": {},
   "outputs": [],
   "source": [
    "import json\n",
    "from pprint import pprint\n",
    "from collections import defaultdict\n",
    "import matplotlib.pyplot as plt\n",
    "from scipy import stats\n",
    "from scipy.stats import chi2_contingency\n",
    "import numpy as np"
   ]
  },
  {
   "cell_type": "code",
   "execution_count": 2,
   "metadata": {},
   "outputs": [],
   "source": [
    "with open('trialdata.json') as fs:\n",
    "     data = json.load(fs)"
   ]
  },
  {
   "cell_type": "code",
   "execution_count": 3,
   "metadata": {},
   "outputs": [],
   "source": [
    "bonus = 0\n",
    "score_list = {}\n",
    "count_total_participants = 0\n",
    "\n",
    "count_con0 = 0\n",
    "count_con1 = 0\n",
    "\n",
    "score_con0_list = []\n",
    "score_con1_list = []\n",
    "\n",
    "count_con0_skill1 = 0\n",
    "count_con0_skill2 = 0\n",
    "\n",
    "score_con0_skill1 = 0\n",
    "score_con0_skill2 = 0\n",
    "\n",
    "score_con0_skill1_list = []\n",
    "score_con0_skill2_list = []\n",
    "\n",
    "count_con0_only_skill1 = 0\n",
    "count_con0_only_skill2 = 0\n",
    "\n",
    "score_con0_only_skill1 = 0\n",
    "score_con0_only_skill2 = 0\n",
    "\n",
    "count_con1_skill1 = 0\n",
    "count_con1_skill2 = 0\n",
    "\n",
    "score_con1_skill1 = 0\n",
    "score_con1_skill2 = 0\n",
    "\n",
    "score_con1_skill1_list = []\n",
    "score_con1_skill2_list = []\n",
    "\n",
    "count_con1_only_skill1 = 0\n",
    "count_con1_only_skill2 = 0\n",
    "\n",
    "score_con1_only_skill1 = 0\n",
    "score_con1_only_skill2 = 0\n",
    "\n",
    "count_con0_both = 0\n",
    "count_con1_both = 0\n",
    "\n",
    "count_con0_1_to_2 = 0\n",
    "count_con1_1_to_2 = 0\n",
    "\n",
    "score_con0_both = 0\n",
    "score_con1_both = 0\n",
    "\n",
    "score_con0_both_list = []\n",
    "score_con1_both_list = []\n",
    "\n",
    "count_con0_skill2_mastery = 0\n",
    "count_con1_skill2_mastery = 1\n",
    "\n",
    "count_con0_skill2_until_mastery_list = []\n",
    "count_con1_skill2_until_mastery_list = []\n",
    "\n",
    "count_skill2_until_mastery_dict = defaultdict(list)\n",
    "\n",
    "\n",
    "proportion_skill2_until_mastery_dict = defaultdict(list)\n",
    "\n",
    "proportion_first_skill2 = defaultdict(list)\n",
    "\n",
    "count_complete_exp = 0\n",
    "\n",
    "d = defaultdict(list)\n",
    "\n",
    "\n",
    "proportion_skill_2_dict = defaultdict(list)\n",
    "\n"
   ]
  },
  {
   "cell_type": "code",
   "execution_count": 4,
   "metadata": {},
   "outputs": [],
   "source": [
    "for records in data:\n",
    "    \n",
    "    same_user = False\n",
    "    saved_skill2_mastery = False\n",
    "    skill2_mastery_step = None\n",
    "    \n",
    "    count_last_complete_exp = count_complete_exp\n",
    "    \n",
    "    score_steps = []\n",
    "    tried_skills = []\n",
    "    total_steps = []\n",
    "    \n",
    "#     print(len(data[0]['data'][0]))\n",
    "    record_condition = records['condition'][0]\n",
    "#     print(record_condition)\n",
    "    d['condition'].append(record_condition)\n",
    "    \n",
    "    for record in records['data'][0]:\n",
    "#         print(record)\n",
    "        trial = record['trialdata']\n",
    "#         print(trial)\n",
    "        if trial['phase'] == 'TEST':               \n",
    "#           count the number of mastering skill2\n",
    "            if saved_skill2_mastery is False and trial['currentK2'] == 1: \n",
    "                saved_skill2_mastery = True\n",
    "                \n",
    "                skill2_mastery_step = trial['totalStep']\n",
    "#                 print('skill 2 mastered at step', skill2_mastery_step)\n",
    "                \n",
    "                if record_condition == 0:\n",
    "                    count_con0_skill2_mastery += 1\n",
    "                if record_condition == 1:\n",
    "                    count_con1_skill2_mastery += 1\n",
    "                    \n",
    "            score_steps.append(trial['score'])\n",
    "            tried_skills.append(trial['skillTried'])\n",
    "            total_steps.append(trial['totalStep'])\n",
    "\n",
    "        if trial['phase'] == 'postquestionnaire' and same_user is False:\n",
    "#             print('come into postquestionnaire')\n",
    "            same_user = True\n",
    "            count_complete_exp += 1\n",
    "            \n",
    "    if count_last_complete_exp == count_complete_exp:\n",
    "        print(\"worker did not finish the exp\")\n",
    "\n",
    "    else:\n",
    "        count_total_participants += 1\n",
    "\n",
    "#       tried_skills = list(set(tried_skills))\n",
    "        d['final_score'].append(score_steps[-1])\n",
    "        d['tried_skills'].append(tried_skills)\n",
    "        d['total_step'].append(total_steps[-1])\n",
    "\n",
    "        assert len(tried_skills) == total_steps[-1]\n",
    "        \n",
    "        prop_skill_2 = float(tried_skills.count(2))/len(tried_skills)\n",
    "\n",
    "#         print('final score', score_steps[-1])\n",
    "#         print('tried skills', tried_skills)\n",
    "#         print('total step', total_steps[-1])\n",
    "\n",
    "        if record_condition == 0:\n",
    "#             print('come into condition 0')\n",
    "            count_con0 += 1\n",
    "            score_con0_list.append(score_steps[-1])\n",
    "            \n",
    "            count_con0_skill2_until_mastery = tried_skills[:skill2_mastery_step].count(2)\n",
    "#             count_con0_skill2_until_mastery_list.append(count_con0_skill2_until_mastery)\n",
    "            count_skill2_until_mastery_dict['con0'].append(count_con0_skill2_until_mastery)\n",
    "            \n",
    "    \n",
    "#             print('steps taken without successfully mastering skill 2', count_con0_skill2_until_mastery)\n",
    "            proportion_skill2_until_mastery_dict['con0'].append(float(count_con0_skill2_until_mastery)/len(tried_skills))\n",
    "            proportion_skill2_until_mastery_dict['con0_till_success'].append(float(count_con0_skill2_until_mastery)/len(tried_skills[:skill2_mastery_step]))\n",
    "            \n",
    "\n",
    "\n",
    "#             print('proportion skill 2 for con 0', prop_skill_2)\n",
    "\n",
    "            proportion_skill_2_dict['con0'].append(prop_skill_2) \n",
    "#             print('tried skills', tried_skills)\n",
    "#           count the number of tried both skills, only skill1, only skill2, including skill1, including skill2\n",
    "            if 1 in tried_skills and 2 in tried_skills:\n",
    "                count_con0_both += 1\n",
    "                score_con0_both += score_steps[-1]\n",
    "                score_con0_both_list.append(score_steps[-1])\n",
    "\n",
    "            if 1 in tried_skills and 2 not in tried_skills:\n",
    "                count_con0_only_skill1 += 1\n",
    "                score_con0_only_skill1 += score_steps[-1]\n",
    "\n",
    "            if 2 in tried_skills and 1 not in tried_skills:\n",
    "                count_con0_only_skill2 += 1\n",
    "                score_con0_only_skill2 += score_steps[-1]\n",
    "\n",
    "            if 1 in tried_skills:\n",
    "#                 print('come into tried skills')\n",
    "                count_con0_skill1 += 1\n",
    "                score_con0_skill1 += score_steps[-1]\n",
    "                score_con0_skill1_list.append(score_steps[-1])\n",
    "\n",
    "            if 2 in tried_skills:\n",
    "\n",
    "                count_con0_skill2 += 1\n",
    "                score_con0_skill2 += score_steps[-1]\n",
    "                score_con0_skill2_list.append(score_steps[-1])\n",
    "                \n",
    "                timestep = next(i for i, v in enumerate(tried_skills) if v == 2) + 1\n",
    "#                 print('the timestep skill 2 tried for the first time', timestep)\n",
    "                \n",
    "                proportion_first_skill2['con0'].append(float(timestep)/len(tried_skills))\n",
    "                \n",
    "                if timestep != 1:\n",
    "#                     print('tried first skill2 not early than the second step', timestep)\n",
    "                    count_con0_1_to_2 += 1\n",
    "#                     print(tried_skills)\n",
    "                    proportion_first_skill2['con0_timestep>1'].append(float(timestep)/len(tried_skills))\n",
    "            \n",
    "#                 print('proportion skill 2 for con 0 when tried skill 2 at least once', prop_skill_2)\n",
    "                proportion_skill_2_dict['con0_skill2>=1'].append(prop_skill_2)\n",
    "                proportion_skill2_until_mastery_dict['con0_skill2>=1'].append(float(count_con0_skill2_until_mastery)/len(tried_skills))\n",
    "                count_skill2_until_mastery_dict['con0_skill2>=1'].append(count_con0_skill2_until_mastery)\n",
    "                \n",
    "\n",
    "        if record_condition == 1:\n",
    "\n",
    "            count_con1 += 1\n",
    "            score_con1_list.append(score_steps[-1])\n",
    "            \n",
    "            count_con1_skill2_until_mastery = tried_skills[:skill2_mastery_step].count(2)\n",
    "#             count_con1_skill2_until_mastery_list.append(count_con1_skill2_until_mastery)\n",
    "            count_skill2_until_mastery_dict['con1'].append(count_con1_skill2_until_mastery)\n",
    "            \n",
    "#             print('steps taken without successfully mastering skill 2', count_con1_skill2_until_mastery)\n",
    "            proportion_skill2_until_mastery_dict['con1'].append(float(count_con1_skill2_until_mastery)/len(tried_skills))\n",
    "            proportion_skill2_until_mastery_dict['con1_till_success'].append(float(count_con1_skill2_until_mastery)/len(tried_skills[:skill2_mastery_step]))\n",
    "\n",
    "#             print('proportion skill 2 for con 1', prop_skill_2)\n",
    "\n",
    "            proportion_skill_2_dict['con1'].append(prop_skill_2)\n",
    "\n",
    "\n",
    "            if 1 in tried_skills and 2 in tried_skills:\n",
    "                count_con1_both += 1\n",
    "                score_con1_both += score_steps[-1]\n",
    "                score_con1_both_list.append(score_steps[-1])\n",
    "\n",
    "            if 1 in tried_skills and 2 not in tried_skills:\n",
    "                count_con1_only_skill1 += 1\n",
    "                score_con1_only_skill1 += score_steps[-1]\n",
    "\n",
    "            if 2 in tried_skills and 1 not in tried_skills:\n",
    "                count_con1_only_skill2 += 1\n",
    "                score_con1_only_skill2 += score_steps[-1]\n",
    "\n",
    "            if 1 in tried_skills:\n",
    "                count_con1_skill1 += 1\n",
    "                score_con1_skill1 += score_steps[-1]\n",
    "                score_con1_skill1_list.append(score_steps[-1])\n",
    "\n",
    "\n",
    "            if 2 in tried_skills:\n",
    "                count_con1_skill2 += 1\n",
    "                score_con1_skill2 += score_steps[-1]\n",
    "                score_con1_skill2_list.append(score_steps[-1])\n",
    "                \n",
    "                timestep = next(i for i, v in enumerate(tried_skills) if v == 2) + 1\n",
    "#                 print('the timestep skill 2 tried for the first time', timestep)\n",
    "                proportion_first_skill2['con1'].append(float(timestep)/len(tried_skills))\n",
    "    \n",
    "                if timestep != 1:\n",
    "#                     print('tried first skill2 not early than the second step', timestep)\n",
    "                    count_con1_1_to_2 += 1\n",
    "#                     print(tried_skills)\n",
    "\n",
    "                    proportion_first_skill2['con1_timestep>1'].append(float(timestep)/len(tried_skills))\n",
    "                \n",
    "#                 print('proportion skill 2 for con 1 when tried skill 2 at least once', prop_skill_2)\n",
    "                proportion_skill_2_dict['con1_skill2>=1'].append(prop_skill_2)\n",
    "                proportion_skill2_until_mastery_dict['con1_skill2>=1'].append(float(count_con1_skill2_until_mastery)/len(tried_skills))\n",
    "                count_skill2_until_mastery_dict['con1_skill2>=1'].append(count_con1_skill2_until_mastery)\n",
    "                \n",
    "#     print('')\n",
    "#     print('')\n",
    "\n",
    "assert len(proportion_skill2_until_mastery_dict['con1']) == count_con1\n",
    "assert len(proportion_skill2_until_mastery_dict['con0']) == count_con0\n",
    "assert len(proportion_skill2_until_mastery_dict['con0_skill2>=1']) == count_con0_skill2\n",
    "assert len(proportion_skill2_until_mastery_dict['con1_skill2>=1']) == count_con1_skill2\n",
    "assert len(d['condition']) == len(d['final_score']) == len(d['tried_skills']) == len(d['total_step'])\n",
    "\n",
    "prop_skill_2_average_con0 = np.mean(proportion_skill_2_dict['con0'])\n",
    "prop_skill_2_average_con1 = np.mean(proportion_skill_2_dict['con1'])\n",
    "prop_skill_2_average_con0_least_once = np.mean(proportion_skill_2_dict['con0_skill2>=1'])\n",
    "prop_skill_2_average_con1_least_once = np.mean(proportion_skill_2_dict['con1_skill2>=1'])\n",
    "\n",
    "prop_skill2_until_master_averay_con0 = np.mean(proportion_skill2_until_mastery_dict['con0'])\n",
    "prop_skill2_until_master_averay_con1 = np.mean(proportion_skill2_until_mastery_dict['con1'])\n",
    "prop_skill2_until_master_averay_con0_least_once = np.mean(proportion_skill2_until_mastery_dict['con0_skill2>=1'])\n",
    "prop_skill2_until_master_averay_con1_least_once = np.mean(proportion_skill2_until_mastery_dict['con1_skill2>=1'])\n",
    "prop_skill2_until_master_averay_con0_till_masterstep = np.mean(proportion_skill2_until_mastery_dict['con0_till_success'])\n",
    "prop_skill2_until_master_averay_con1_till_masterstep = np.mean(proportion_skill2_until_mastery_dict['con1_till_success'])\n",
    "\n",
    "\n",
    "\n",
    "prop_first_skill2_average_con0 = np.mean(proportion_first_skill2['con0'])\n",
    "prop_first_skill2_average_con1 = np.mean(proportion_first_skill2['con1'])\n",
    "prop_first_skill2_after_skill1_average_con0 = np.mean(proportion_first_skill2['con0_timestep>1'])\n",
    "prop_first_skill2_after_skill1_average_con1 = np.mean(proportion_first_skill2['con1_timestep>1'])\n",
    "\n",
    "score_con0_average = np.mean(score_con0_list)\n",
    "score_con1_average = np.mean(score_con1_list)\n",
    "\n",
    "additional_attemps_skill2_con0 = [x - 1 for x in count_skill2_until_mastery_dict['con0_skill2>=1']]\n",
    "additional_attemps_skill2_con1 = [x - 1 for x in count_skill2_until_mastery_dict['con1_skill2>=1']]\n",
    "\n",
    "\n",
    "# print('valid total participants', count_total_participants)\n",
    "# print('valid total con 0', count_con0,\n",
    "#       'trying skill 1', count_con0_skill1, 'average score', float(score_con0_skill1)/count_con0_skill1,\n",
    "#       'only skill 1', count_con0_only_skill1, 'average score', float(score_con0_only_skill1)/count_con0_only_skill1,\n",
    "#       'trying skill 2', count_con0_skill2, 'average score', float(score_con0_skill2)/count_con0_skill2,\n",
    "#       'only skill 2', count_con0_only_skill2, 'average score', float(score_con0_only_skill2)/count_con0_only_skill2,\n",
    "#       'trying both', count_con0_both, 'average score', float(score_con0_both)/count_con0_both, \n",
    "#       'master skill 2 among all in con 0', count_con0_skill2_mastery, 'prop', float(count_con0_skill2_mastery)/count_con0,\n",
    "#       'prop of mastering skill 2 among all tried skill 2 in con 0', float(count_con0_skill2_mastery)/count_con0_skill2,\n",
    "\n",
    "#      )\n",
    "\n",
    "# print(\"valid total con 1\", count_con1, \n",
    "\n",
    "#       'trying skill 1', count_con1_skill1,\n",
    "#       'average score', float(score_con1_skill1)/count_con1_skill1,\n",
    "      \n",
    "#       'only skill 1', count_con1_only_skill1,\n",
    "#       'average score', float(score_con1_only_skill1)/count_con1_only_skill1,\n",
    "#       \"\\n\"\n",
    "#       'trying skill 2', count_con1_skill2, \n",
    "#       'average score', float(score_con1_skill2)/count_con1_skill2,\n",
    "\n",
    "#       'only skill 2', count_con1_only_skill2,\n",
    "#       'average score', float(score_con1_only_skill2)/count_con1_only_skill2,\n",
    "\n",
    "#       'trying both', count_con1_both,\n",
    "#       'average score', float(score_con1_both)/count_con1_both,\n",
    "\n",
    "#       'master skill 2 among all in con 1', count_con1_skill2_mastery, \n",
    "#       'prop', float(count_con1_skill2_mastery)/count_con1,\n",
    "#       'prop of mastering skill 2 among all tried skill 2 in con 1', float(count_con1_skill2_mastery)/count_con1_skill2,\n",
    "#      )\n",
    "\n",
    "# print('proportion skill 2 average for con 0', prop_skill_2_average_con0, 'and for con1', prop_skill_2_average_con1)\n",
    "# print('proportion skill 2 average for con 0 at least once', prop_skill_2_average_con0_least_once, 'and for con1', prop_skill_2_average_con1_least_once)\n",
    "\n",
    "# print('proportion first tried skill 2 for con 0 average', \n",
    "#        prop_first_skill2_average_con0, \n",
    "#       'and for con 1 average', \n",
    "#        prop_first_skill2_average_con1)\n",
    "\n",
    "# print('proportion first tried skill 2 after trying skill 1 for con 0 average', \n",
    "#        prop_first_skill2_after_skill1_average_con0, \n",
    "#       'and for con 1 average', \n",
    "#        prop_first_skill2_after_skill1_average_con1)\n",
    "\n",
    "# print('prop trying skill 2 without success for con 0 average', \n",
    "#        prop_skill2_until_master_averay_con0,\n",
    "#       'prop trying skill 2 without success for con 1 average', \n",
    "#        prop_skill2_until_master_averay_con1)\n",
    "\n",
    "# print('prop trying skill 2 without success among all tried skill2 in con 0 average', \n",
    "#        prop_skill2_until_master_averay_con0_least_once,\n",
    "#       'prop trying skill 2 without success among all tried skill2 in con 0 average', \n",
    "#        prop_skill2_until_master_averay_con1_least_once )\n",
    "\n",
    "# print('score con 0 average', score_con0_average)\n",
    "# print('score con 1 average', score_con1_average)\n",
    "\n",
    "# print('turn trying skill 1 to skill 2 in con 0', count_con0_1_to_2)\n",
    "# print('turn trying skill 1 to skill 2 in con 1', count_con1_1_to_2)\n",
    "\n",
    "# print(count_skill2_until_mastery_dict['con0'])\n",
    "# print(count_skill2_until_mastery_dict['con1'])\n",
    "\n",
    "# print(count_skill2_until_mastery_dict['con0_skill2>=1'])\n",
    "# print(count_skill2_until_mastery_dict['con1_skill2>=1'])\n",
    "\n",
    "\n",
    "# print(prop_skill2_until_master_averay_con0_till_masterstep)\n",
    "# print(prop_skill2_until_master_averay_con1_till_masterstep)\n",
    "\n",
    "\n",
    "# print('completed exp', count_complete_exp)\n",
    "\n",
    "    "
   ]
  },
  {
   "cell_type": "markdown",
   "metadata": {},
   "source": [
    "### Test Results"
   ]
  },
  {
   "cell_type": "code",
   "execution_count": 5,
   "metadata": {},
   "outputs": [
    {
     "data": {
      "text/plain": [
       "2.7876106194690267"
      ]
     },
     "execution_count": 5,
     "metadata": {},
     "output_type": "execute_result"
    }
   ],
   "source": [
    "np.mean(count_skill2_until_mastery_dict['con0'])"
   ]
  },
  {
   "cell_type": "code",
   "execution_count": 6,
   "metadata": {},
   "outputs": [
    {
     "data": {
      "text/plain": [
       "3.9464285714285716"
      ]
     },
     "execution_count": 6,
     "metadata": {},
     "output_type": "execute_result"
    }
   ],
   "source": [
    "np.mean(count_skill2_until_mastery_dict['con1'])"
   ]
  },
  {
   "cell_type": "code",
   "execution_count": 7,
   "metadata": {},
   "outputs": [
    {
     "data": {
      "text/plain": [
       "5.121951219512195"
      ]
     },
     "execution_count": 7,
     "metadata": {},
     "output_type": "execute_result"
    }
   ],
   "source": [
    "np.mean(count_skill2_until_mastery_dict['con0_skill2>=1'])"
   ]
  },
  {
   "cell_type": "code",
   "execution_count": 8,
   "metadata": {},
   "outputs": [
    {
     "data": {
      "text/plain": [
       "6.314285714285714"
      ]
     },
     "execution_count": 8,
     "metadata": {},
     "output_type": "execute_result"
    }
   ],
   "source": [
    "np.mean(count_skill2_until_mastery_dict['con1_skill2>=1'])"
   ]
  },
  {
   "cell_type": "code",
   "execution_count": 9,
   "metadata": {},
   "outputs": [
    {
     "data": {
      "text/plain": [
       "3.0"
      ]
     },
     "execution_count": 9,
     "metadata": {},
     "output_type": "execute_result"
    }
   ],
   "source": [
    "np.median(count_skill2_until_mastery_dict['con0_skill2>=1'])"
   ]
  },
  {
   "cell_type": "code",
   "execution_count": 10,
   "metadata": {},
   "outputs": [
    {
     "data": {
      "text/plain": [
       "5.0"
      ]
     },
     "execution_count": 10,
     "metadata": {},
     "output_type": "execute_result"
    }
   ],
   "source": [
    "np.median(count_skill2_until_mastery_dict['con1_skill2>=1'])"
   ]
  },
  {
   "cell_type": "code",
   "execution_count": 11,
   "metadata": {},
   "outputs": [
    {
     "data": {
      "text/plain": [
       "4.121951219512195"
      ]
     },
     "execution_count": 11,
     "metadata": {},
     "output_type": "execute_result"
    }
   ],
   "source": [
    "np.mean(additional_attemps_skill2_con0)"
   ]
  },
  {
   "cell_type": "code",
   "execution_count": 12,
   "metadata": {},
   "outputs": [
    {
     "data": {
      "text/plain": [
       "5.314285714285714"
      ]
     },
     "execution_count": 12,
     "metadata": {},
     "output_type": "execute_result"
    }
   ],
   "source": [
    "np.mean(additional_attemps_skill2_con1)"
   ]
  },
  {
   "cell_type": "code",
   "execution_count": 13,
   "metadata": {},
   "outputs": [
    {
     "data": {
      "text/plain": [
       "2.0"
      ]
     },
     "execution_count": 13,
     "metadata": {},
     "output_type": "execute_result"
    }
   ],
   "source": [
    "np.median(additional_attemps_skill2_con0)"
   ]
  },
  {
   "cell_type": "code",
   "execution_count": 14,
   "metadata": {},
   "outputs": [
    {
     "data": {
      "text/plain": [
       "4.0"
      ]
     },
     "execution_count": 14,
     "metadata": {},
     "output_type": "execute_result"
    }
   ],
   "source": [
    "np.median(additional_attemps_skill2_con1)"
   ]
  },
  {
   "cell_type": "code",
   "execution_count": 15,
   "metadata": {},
   "outputs": [
    {
     "name": "stdout",
     "output_type": "stream",
     "text": [
      "t value is -1.7389034785829633 p value is 0.041369336172863924\n"
     ]
    }
   ],
   "source": [
    "# compare the total score in either condition\n",
    "\n",
    "t3, p3 = stats.ttest_ind(score_con0_list, score_con1_list)\n",
    "p3 = p3/2\n",
    "print('t value is', t3, 'p value is', p3)"
   ]
  },
  {
   "cell_type": "code",
   "execution_count": 16,
   "metadata": {},
   "outputs": [
    {
     "name": "stdout",
     "output_type": "stream",
     "text": [
      "t value is  -2.5247708193617058 p value is 0.005960801704021068\n"
     ]
    }
   ],
   "source": [
    "# compare the count trying skill 2 until mastery \n",
    "# among all the participants in either condition\n",
    "t9, p9 = stats.ttest_ind(count_skill2_until_mastery_dict['con0'], \n",
    "                         count_skill2_until_mastery_dict['con1'])\n",
    "p9 = p9/2\n",
    "print('t value is ', t9, 'p value is', p9)"
   ]
  },
  {
   "cell_type": "code",
   "execution_count": 17,
   "metadata": {},
   "outputs": [
    {
     "name": "stdout",
     "output_type": "stream",
     "text": [
      "t value is -1.8559214251517315 p value is 0.03229592586521633\n"
     ]
    }
   ],
   "source": [
    "# compare the count of additional attemps trying to learn skill2\n",
    "# among the participants who has tried skill 2 at least once\n",
    "t11, p11 = stats.ttest_ind(additional_attemps_skill2_con0,\n",
    "                          additional_attemps_skill2_con1)\n",
    "p11 = p11/2\n",
    "print('t value is', t11, 'p value is', p11)"
   ]
  },
  {
   "cell_type": "code",
   "execution_count": 18,
   "metadata": {},
   "outputs": [
    {
     "data": {
      "text/plain": [
       "(3.7650969029853965,\n",
       " 0.052332825708827795,\n",
       " 1,\n",
       " array([[ 44.69777778,  44.30222222],\n",
       "        [181.30222222, 179.69777778]]))"
      ]
     },
     "execution_count": 18,
     "metadata": {},
     "output_type": "execute_result"
    }
   ],
   "source": [
    "# rows: mastered skill 2, not mastered skill2 among all in either condition; columns: condition 0, condition 1\n",
    "\n",
    "obs5 = np.array([[count_con0_skill2_mastery, count_con1_skill2_mastery], \n",
    "                 [(count_con0 - count_con0_skill2_mastery), \n",
    "                  (count_con1 - count_con1_skill2_mastery)]])\n",
    "chi2_contingency(obs5)"
   ]
  },
  {
   "cell_type": "code",
   "execution_count": 19,
   "metadata": {},
   "outputs": [
    {
     "name": "stdout",
     "output_type": "stream",
     "text": [
      "value -2.489034127522926 p 0.006404533474661747\n"
     ]
    }
   ],
   "source": [
    "# wilcoxon rank sum test for comparing the count of the steps of trying skill 2 until mastery \n",
    "# among the participants who has tried skill 2 at least once\n",
    "w, p = stats.ranksums(np.asarray(count_skill2_until_mastery_dict['con0_skill2>=1']), \n",
    "               np.asarray(count_skill2_until_mastery_dict['con1_skill2>=1']))\n",
    "p = p/2\n",
    "print('value', w, 'p', p)"
   ]
  },
  {
   "cell_type": "code",
   "execution_count": 20,
   "metadata": {},
   "outputs": [
    {
     "name": "stdout",
     "output_type": "stream",
     "text": [
      "value -2.489034127522926 p 0.006404533474661747\n"
     ]
    }
   ],
   "source": [
    "# wilcoxon rank sum test for comparing the count of additional attemps of trying skill 2 until mastery \n",
    "# among the participants who has tried skill 2 at least once\n",
    "\n",
    "w, p = stats.ranksums(np.asarray(additional_attemps_skill2_con0),\n",
    "                     np.asarray(additional_attemps_skill2_con1))\n",
    "p = p/2\n",
    "print('value', w, 'p', p)"
   ]
  },
  {
   "cell_type": "code",
   "execution_count": 21,
   "metadata": {},
   "outputs": [
    {
     "name": "stdout",
     "output_type": "stream",
     "text": [
      "value -2.592517122873144 p 0.00476382191889416\n"
     ]
    }
   ],
   "source": [
    "# wilcoxon rank sum test for comparing the count of the steps of trying skill 2 until mastery \n",
    "# among all the participants in either condition\n",
    "w, p = stats.ranksums(np.asarray(count_skill2_until_mastery_dict['con0']), \n",
    "               np.asarray(count_skill2_until_mastery_dict['con1']))\n",
    "p = p/2\n",
    "print('value', w, 'p', p)"
   ]
  },
  {
   "cell_type": "markdown",
   "metadata": {},
   "source": [
    "### plot brain points effect on practice, mastery and performance"
   ]
  },
  {
   "cell_type": "code",
   "execution_count": 22,
   "metadata": {},
   "outputs": [],
   "source": [
    "mean_con0_practice = np.mean(count_skill2_until_mastery_dict['con0_skill2>=1'])\n",
    "median_con0_practice = np.median(count_skill2_until_mastery_dict['con0_skill2>=1'])-1\n",
    "\n",
    "stem_con0_practice = stats.sem(count_skill2_until_mastery_dict['con0_skill2>=1'], axis=None, ddof=0)\n",
    "std_con0_practice = np.std(count_skill2_until_mastery_dict['con0_skill2>=1'])\n",
    "n0_practice = len(count_skill2_until_mastery_dict['con0_skill2>=1'])\n",
    "yerr0_practice = std_con0_practice/np.sqrt(n0_practice)\n",
    "assert yerr0_practice == stem_con0_practice\n",
    "\n",
    "mean_con1_practice = np.mean(count_skill2_until_mastery_dict['con1_skill2>=1'])\n",
    "stem_con1_practice = stats.sem(count_skill2_until_mastery_dict['con1_skill2>=1'], axis=None, ddof=0)\n",
    "\n",
    "median_con1_practice = np.median(count_skill2_until_mastery_dict['con1_skill2>=1'])-1\n",
    "\n",
    "std_con1_practice = np.std(count_skill2_until_mastery_dict['con1_skill2>=1'])\n",
    "n1_practice = len(count_skill2_until_mastery_dict['con1_skill2>=1'])\n",
    "yerr1_practice = std_con1_practice/np.sqrt(n1_practice)\n",
    "\n",
    "assert yerr1_practice == stem_con1_practice"
   ]
  },
  {
   "cell_type": "code",
   "execution_count": 23,
   "metadata": {},
   "outputs": [],
   "source": [
    "prop_con0_learning = float(count_con0_skill2_mastery)/count_con0\n",
    "prop_con1_learning = float(count_con1_skill2_mastery)/count_con1\n",
    "yerr0_learning = np.sqrt(prop_con0_learning*(1-prop_con0_learning)/count_con0)\n",
    "yerr1_learning = np.sqrt(prop_con1_learning*(1-prop_con1_learning)/count_con1)"
   ]
  },
  {
   "cell_type": "code",
   "execution_count": 24,
   "metadata": {},
   "outputs": [],
   "source": [
    "mean_score0 = np.mean(score_con0_list)\n",
    "mean_score1 = np.mean(score_con1_list)\n",
    "n0_score = len(score_con0_list)\n",
    "n1_score = len(score_con1_list)\n",
    "yerr0_score = np.std(score_con0_list)/np.sqrt(n0_score)\n",
    "yerr1_score = np.std(score_con1_list)/np.sqrt(n1_score)"
   ]
  },
  {
   "cell_type": "code",
   "execution_count": 35,
   "metadata": {},
   "outputs": [
    {
     "name": "stderr",
     "output_type": "stream",
     "text": [
      "/anaconda3/lib/python3.7/site-packages/matplotlib/font_manager.py:1331: UserWarning: findfont: Font family ['normal'] not found. Falling back to DejaVu Sans\n",
      "  (prop.get_family(), self.defaultFamily[fontext]))\n"
     ]
    },
    {
     "data": {
      "image/png": "[encoded data removed]",
      "text/plain": [
       "<Figure size 432x288 with 3 Axes>"
      ]
     },
     "metadata": {
      "needs_background": "light"
     },
     "output_type": "display_data"
    }
   ],
   "source": [
    "font = {'family' : 'normal',\n",
    "        'weight' : 'bold',\n",
    "        'size'   : 14}\n",
    "\n",
    "plt.rc('font', **font)\n",
    "\n",
    "\n",
    "\n",
    "fig, ax = plt.subplots(1, 3)\n",
    "\n",
    "\n",
    "\n",
    "index = np.arange(1)\n",
    "bar_width = 0.35\n",
    "\n",
    "opacity = 0.4\n",
    "error_config = {'ecolor': '0.3'}\n",
    "\n",
    "\n",
    "rects1 = ax[0].bar(index, median_con0_practice, bar_width,\n",
    "                alpha=opacity, color='b',\n",
    "                yerr=yerr0_practice, error_kw=error_config,\n",
    "                label='No brain points')\n",
    "\n",
    "rects2 = ax[0].bar(index + bar_width, median_con1_practice, bar_width,\n",
    "                alpha=opacity, color='r',\n",
    "                yerr=yerr1_practice, error_kw=error_config,\n",
    "                label='Brain points')\n",
    "\n",
    "# ax[0].set_xlabel('Categories')\n",
    "ax[0].set_ylabel('Count of trying Skill 2')\n",
    "\n",
    "ax[0].set_xticks(index + bar_width / 2)\n",
    "ax[0].set_xticklabels(('Practice', ))\n",
    "\n",
    "rects1 = ax[1].bar(index, prop_con0_learning, bar_width,\n",
    "                  alpha=opacity, color='b',\n",
    "                  yerr=yerr0_learning, error_kw=error_config,\n",
    "                  label='No brain points')\n",
    "\n",
    "rects2 = ax[1].bar(index+bar_width, prop_con1_learning, bar_width,\n",
    "                  alpha=opacity, color='r',\n",
    "                  yerr=yerr1_learning, error_kw=error_config,\n",
    "                  label='Brain points')\n",
    "\n",
    "ax[1].set_ylabel('Frequency')\n",
    "ax[1].set_xticks(index+bar_width/2)\n",
    "ax[1].set_xticklabels(('Mastery',))\n",
    "\n",
    "\n",
    "rects1 = ax[2].bar(index, mean_score0, bar_width,\n",
    "                alpha=opacity, color='b',\n",
    "                yerr=yerr0_score , error_kw=error_config,\n",
    "                label='No brain points')\n",
    "\n",
    "rects2 = ax[2].bar(index + bar_width, mean_score1, bar_width,\n",
    "                alpha=opacity, color='r',\n",
    "                yerr= yerr1_score, error_kw=error_config,\n",
    "                label='Brain points')\n",
    "\n",
    "# ax[1].set_xlabel('Performance')\n",
    "ax[2].set_ylabel('Score')\n",
    "\n",
    "ax[2].set_xticks(index + bar_width / 2)\n",
    "ax[2].set_xticklabels(('Performance',))\n",
    "\n",
    "\n",
    "plt.suptitle('The effect of Brain Points on Practice, Mastery and Performance',x=0.54, y=1.2, horizontalalignment='center')\n",
    "fig.tight_layout()\n",
    "plt.legend(bbox_to_anchor=(0, 1.25))\n",
    "# fig.savefig('effect_brain.pdf', bbox_inches = 'tight')\n",
    "\n",
    "\n",
    "\n",
    "plt.show()\n"
   ]
  },
  {
   "cell_type": "code",
   "execution_count": null,
   "metadata": {},
   "outputs": [],
   "source": []
  },
  {
   "cell_type": "code",
   "execution_count": null,
   "metadata": {},
   "outputs": [],
   "source": []
  },
  {
   "cell_type": "code",
   "execution_count": null,
   "metadata": {},
   "outputs": [],
   "source": []
  }
 ],
 "metadata": {
  "kernelspec": {
   "display_name": "Python 3",
   "language": "python",
   "name": "python3"
  },
  "language_info": {
   "codemirror_mode": {
    "name": "ipython",
    "version": 3
   },
   "file_extension": ".py",
   "mimetype": "text/x-python",
   "name": "python",
   "nbconvert_exporter": "python",
   "pygments_lexer": "ipython3",
   "version": "3.7.0"
  }
 },
 "nbformat": 4,
 "nbformat_minor": 2
}
